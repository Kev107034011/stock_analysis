{
 "cells": [
  {
   "cell_type": "markdown",
   "id": "0fc7dd82",
   "metadata": {},
   "source": [
    "# Load Library"
   ]
  },
  {
   "cell_type": "code",
   "execution_count": 9,
   "id": "d39d471a",
   "metadata": {},
   "outputs": [],
   "source": [
    "import pandas as pd\n",
    "import requests\n",
    "import numpy as np\n",
    "import talib\n",
    "import matplotlib.pyplot as plt\n",
    "import smtplib\n",
    "import requests\n",
    "from io import StringIO\n",
    "import pandas as pd\n",
    "import numpy as np\n",
    "import datetime\n",
    "import time\n",
    "\n",
    "# Use yfinance to fetch stock data and conduct analysis using talib\n",
    "import yfinance as yf"
   ]
  },
  {
   "cell_type": "markdown",
   "id": "3ffca601",
   "metadata": {},
   "source": [
    "# Calculate Common index\n",
    "such as MA, RSI, MACD, KD、boolean tunnel."
   ]
  },
  {
   "cell_type": "code",
   "execution_count": 26,
   "id": "1e88f1e6",
   "metadata": {},
   "outputs": [
    {
     "data": {
      "text/html": [
       "<div>\n",
       "<style scoped>\n",
       "    .dataframe tbody tr th:only-of-type {\n",
       "        vertical-align: middle;\n",
       "    }\n",
       "\n",
       "    .dataframe tbody tr th {\n",
       "        vertical-align: top;\n",
       "    }\n",
       "\n",
       "    .dataframe thead tr th {\n",
       "        text-align: left;\n",
       "    }\n",
       "\n",
       "    .dataframe thead tr:last-of-type th {\n",
       "        text-align: right;\n",
       "    }\n",
       "</style>\n",
       "<table border=\"1\" class=\"dataframe\">\n",
       "  <thead>\n",
       "    <tr>\n",
       "      <th>Price</th>\n",
       "      <th>Close</th>\n",
       "      <th>High</th>\n",
       "      <th>Low</th>\n",
       "      <th>Open</th>\n",
       "      <th>Volume</th>\n",
       "    </tr>\n",
       "    <tr>\n",
       "      <th>Ticker</th>\n",
       "      <th>2330.TW</th>\n",
       "      <th>2330.TW</th>\n",
       "      <th>2330.TW</th>\n",
       "      <th>2330.TW</th>\n",
       "      <th>2330.TW</th>\n",
       "    </tr>\n",
       "    <tr>\n",
       "      <th>Date</th>\n",
       "      <th></th>\n",
       "      <th></th>\n",
       "      <th></th>\n",
       "      <th></th>\n",
       "      <th></th>\n",
       "    </tr>\n",
       "  </thead>\n",
       "  <tbody>\n",
       "    <tr>\n",
       "      <th>2025-01-02</th>\n",
       "      <td>1060.500000</td>\n",
       "      <td>1070.457746</td>\n",
       "      <td>1050.542254</td>\n",
       "      <td>1065.478873</td>\n",
       "      <td>43177098</td>\n",
       "    </tr>\n",
       "    <tr>\n",
       "      <th>2025-01-03</th>\n",
       "      <td>1070.457764</td>\n",
       "      <td>1080.415510</td>\n",
       "      <td>1070.457764</td>\n",
       "      <td>1075.436637</td>\n",
       "      <td>30415096</td>\n",
       "    </tr>\n",
       "    <tr>\n",
       "      <th>2025-01-06</th>\n",
       "      <td>1120.246460</td>\n",
       "      <td>1120.246460</td>\n",
       "      <td>1090.373221</td>\n",
       "      <td>1095.352094</td>\n",
       "      <td>69289786</td>\n",
       "    </tr>\n",
       "    <tr>\n",
       "      <th>2025-01-07</th>\n",
       "      <td>1125.225342</td>\n",
       "      <td>1155.098581</td>\n",
       "      <td>1125.225342</td>\n",
       "      <td>1145.140835</td>\n",
       "      <td>48758688</td>\n",
       "    </tr>\n",
       "    <tr>\n",
       "      <th>2025-01-08</th>\n",
       "      <td>1100.330933</td>\n",
       "      <td>1125.225298</td>\n",
       "      <td>1100.330933</td>\n",
       "      <td>1105.309806</td>\n",
       "      <td>45211419</td>\n",
       "    </tr>\n",
       "    <tr>\n",
       "      <th>...</th>\n",
       "      <td>...</td>\n",
       "      <td>...</td>\n",
       "      <td>...</td>\n",
       "      <td>...</td>\n",
       "      <td>...</td>\n",
       "    </tr>\n",
       "    <tr>\n",
       "      <th>2025-06-09</th>\n",
       "      <td>1000.753479</td>\n",
       "      <td>1005.732352</td>\n",
       "      <td>995.774606</td>\n",
       "      <td>1000.753479</td>\n",
       "      <td>21674308</td>\n",
       "    </tr>\n",
       "    <tr>\n",
       "      <th>2025-06-10</th>\n",
       "      <td>1040.584473</td>\n",
       "      <td>1045.563346</td>\n",
       "      <td>1015.690107</td>\n",
       "      <td>1020.668980</td>\n",
       "      <td>44877640</td>\n",
       "    </tr>\n",
       "    <tr>\n",
       "      <th>2025-06-11</th>\n",
       "      <td>1060.500000</td>\n",
       "      <td>1065.478873</td>\n",
       "      <td>1050.542254</td>\n",
       "      <td>1060.500000</td>\n",
       "      <td>37178498</td>\n",
       "    </tr>\n",
       "    <tr>\n",
       "      <th>2025-06-12</th>\n",
       "      <td>1045.000000</td>\n",
       "      <td>1060.000000</td>\n",
       "      <td>1045.000000</td>\n",
       "      <td>1055.000000</td>\n",
       "      <td>25221606</td>\n",
       "    </tr>\n",
       "    <tr>\n",
       "      <th>2025-06-13</th>\n",
       "      <td>1030.000000</td>\n",
       "      <td>1040.000000</td>\n",
       "      <td>1025.000000</td>\n",
       "      <td>1040.000000</td>\n",
       "      <td>28393455</td>\n",
       "    </tr>\n",
       "  </tbody>\n",
       "</table>\n",
       "<p>105 rows × 5 columns</p>\n",
       "</div>"
      ],
      "text/plain": [
       "Price             Close         High          Low         Open    Volume\n",
       "Ticker          2330.TW      2330.TW      2330.TW      2330.TW   2330.TW\n",
       "Date                                                                    \n",
       "2025-01-02  1060.500000  1070.457746  1050.542254  1065.478873  43177098\n",
       "2025-01-03  1070.457764  1080.415510  1070.457764  1075.436637  30415096\n",
       "2025-01-06  1120.246460  1120.246460  1090.373221  1095.352094  69289786\n",
       "2025-01-07  1125.225342  1155.098581  1125.225342  1145.140835  48758688\n",
       "2025-01-08  1100.330933  1125.225298  1100.330933  1105.309806  45211419\n",
       "...                 ...          ...          ...          ...       ...\n",
       "2025-06-09  1000.753479  1005.732352   995.774606  1000.753479  21674308\n",
       "2025-06-10  1040.584473  1045.563346  1015.690107  1020.668980  44877640\n",
       "2025-06-11  1060.500000  1065.478873  1050.542254  1060.500000  37178498\n",
       "2025-06-12  1045.000000  1060.000000  1045.000000  1055.000000  25221606\n",
       "2025-06-13  1030.000000  1040.000000  1025.000000  1040.000000  28393455\n",
       "\n",
       "[105 rows x 5 columns]"
      ]
     },
     "execution_count": 26,
     "metadata": {},
     "output_type": "execute_result"
    }
   ],
   "source": [
    "df_stock"
   ]
  },
  {
   "cell_type": "code",
   "execution_count": 27,
   "id": "d95a4549",
   "metadata": {},
   "outputs": [
    {
     "ename": "KeyError",
     "evalue": "['Close']",
     "output_type": "error",
     "traceback": [
      "\u001b[31m---------------------------------------------------------------------------\u001b[39m",
      "\u001b[31mKeyError\u001b[39m                                  Traceback (most recent call last)",
      "\u001b[32m~\\AppData\\Local\\Temp\\ipykernel_15720\\2223838596.py\u001b[39m in \u001b[36m?\u001b[39m\u001b[34m()\u001b[39m\n\u001b[32m----> \u001b[39m\u001b[32m1\u001b[39m df_stock.dropna(subset=[\u001b[33m'Close'\u001b[39m])\n",
      "\u001b[32mc:\\Users\\iuhfy\\OneDrive\\projects\\stock_analysis\\.venv\\Lib\\site-packages\\pandas\\core\\frame.py\u001b[39m in \u001b[36m?\u001b[39m\u001b[34m(self, axis, how, thresh, subset, inplace, ignore_index)\u001b[39m\n\u001b[32m   6673\u001b[39m             ax = self._get_axis(agg_axis)\n\u001b[32m   6674\u001b[39m             indices = ax.get_indexer_for(subset)\n\u001b[32m   6675\u001b[39m             check = indices == -\u001b[32m1\u001b[39m\n\u001b[32m   6676\u001b[39m             \u001b[38;5;28;01mif\u001b[39;00m check.any():\n\u001b[32m-> \u001b[39m\u001b[32m6677\u001b[39m                 \u001b[38;5;28;01mraise\u001b[39;00m KeyError(np.array(subset)[check].tolist())\n\u001b[32m   6678\u001b[39m             agg_obj = self.take(indices, axis=agg_axis)\n\u001b[32m   6679\u001b[39m \n\u001b[32m   6680\u001b[39m         \u001b[38;5;28;01mif\u001b[39;00m thresh \u001b[38;5;28;01mis\u001b[39;00m \u001b[38;5;28;01mnot\u001b[39;00m lib.no_default:\n",
      "\u001b[31mKeyError\u001b[39m: ['Close']"
     ]
    }
   ],
   "source": [
    "df_stock.dropna(subset=['Close'])"
   ]
  },
  {
   "cell_type": "code",
   "execution_count": 16,
   "id": "2094d444",
   "metadata": {},
   "outputs": [
    {
     "name": "stderr",
     "output_type": "stream",
     "text": [
      "C:\\Users\\iuhfy\\AppData\\Local\\Temp\\ipykernel_15720\\3892178625.py:2: FutureWarning: YF.download() has changed argument auto_adjust default to True\n",
      "  df_stock = yf.download('2330.TW', start='2025-01-01', end='2025-06-15')\n",
      "[*********************100%***********************]  1 of 1 completed\n"
     ]
    },
    {
     "ename": "Exception",
     "evalue": "input array has wrong dimensions",
     "output_type": "error",
     "traceback": [
      "\u001b[31m---------------------------------------------------------------------------\u001b[39m",
      "\u001b[31mException\u001b[39m                                 Traceback (most recent call last)",
      "\u001b[36mCell\u001b[39m\u001b[36m \u001b[39m\u001b[32mIn[16]\u001b[39m\u001b[32m, line 5\u001b[39m\n\u001b[32m      2\u001b[39m df_stock = yf.download(\u001b[33m'\u001b[39m\u001b[33m2330.TW\u001b[39m\u001b[33m'\u001b[39m, start=\u001b[33m'\u001b[39m\u001b[33m2025-01-01\u001b[39m\u001b[33m'\u001b[39m, end=\u001b[33m'\u001b[39m\u001b[33m2025-06-15\u001b[39m\u001b[33m'\u001b[39m)\n\u001b[32m      4\u001b[39m \u001b[38;5;66;03m# Calculate technical indicators\u001b[39;00m\n\u001b[32m----> \u001b[39m\u001b[32m5\u001b[39m df_stock[\u001b[33m'\u001b[39m\u001b[33mMA_20\u001b[39m\u001b[33m'\u001b[39m] = \u001b[43mtalib\u001b[49m\u001b[43m.\u001b[49m\u001b[43mSMA\u001b[49m\u001b[43m(\u001b[49m\u001b[43mdf_stock\u001b[49m\u001b[43m[\u001b[49m\u001b[33;43m'\u001b[39;49m\u001b[33;43mClose\u001b[39;49m\u001b[33;43m'\u001b[39;49m\u001b[43m]\u001b[49m\u001b[43m.\u001b[49m\u001b[43mvalues\u001b[49m\u001b[43m,\u001b[49m\u001b[43m \u001b[49m\u001b[43mtimeperiod\u001b[49m\u001b[43m=\u001b[49m\u001b[32;43m20\u001b[39;49m\u001b[43m)\u001b[49m\n\u001b[32m      6\u001b[39m df_stock[\u001b[33m'\u001b[39m\u001b[33mRSI\u001b[39m\u001b[33m'\u001b[39m] = talib.RSI(df_stock[\u001b[33m'\u001b[39m\u001b[33mClose\u001b[39m\u001b[33m'\u001b[39m].values, timeperiod=\u001b[32m14\u001b[39m)\n\u001b[32m      7\u001b[39m df_stock[\u001b[33m'\u001b[39m\u001b[33mMACD\u001b[39m\u001b[33m'\u001b[39m], df_stock[\u001b[33m'\u001b[39m\u001b[33mMACD_signal\u001b[39m\u001b[33m'\u001b[39m], df_stock[\u001b[33m'\u001b[39m\u001b[33mMACD_hist\u001b[39m\u001b[33m'\u001b[39m] = talib.MACD(df_stock[\u001b[33m'\u001b[39m\u001b[33mClose\u001b[39m\u001b[33m'\u001b[39m].values)\n",
      "\u001b[36mFile \u001b[39m\u001b[32mc:\\Users\\iuhfy\\OneDrive\\projects\\stock_analysis\\.venv\\Lib\\site-packages\\talib\\__init__.py:80\u001b[39m, in \u001b[36m_wrapper.<locals>.wrapper\u001b[39m\u001b[34m(*args, **kwds)\u001b[39m\n\u001b[32m     77\u001b[39m     _args = args\n\u001b[32m     78\u001b[39m     _kwds = kwds\n\u001b[32m---> \u001b[39m\u001b[32m80\u001b[39m result = \u001b[43mfunc\u001b[49m\u001b[43m(\u001b[49m\u001b[43m*\u001b[49m\u001b[43m_args\u001b[49m\u001b[43m,\u001b[49m\u001b[43m \u001b[49m\u001b[43m*\u001b[49m\u001b[43m*\u001b[49m\u001b[43m_kwds\u001b[49m\u001b[43m)\u001b[49m\n\u001b[32m     82\u001b[39m \u001b[38;5;66;03m# check to see if we got a streaming result\u001b[39;00m\n\u001b[32m     83\u001b[39m first_result = result[\u001b[32m0\u001b[39m] \u001b[38;5;28;01mif\u001b[39;00m \u001b[38;5;28misinstance\u001b[39m(result, \u001b[38;5;28mtuple\u001b[39m) \u001b[38;5;28;01melse\u001b[39;00m result\n",
      "\u001b[36mFile \u001b[39m\u001b[32mc:\\Users\\iuhfy\\OneDrive\\projects\\stock_analysis\\.venv\\Lib\\site-packages\\talib\\_func.pxi:4638\u001b[39m, in \u001b[36mtalib._ta_lib.SMA\u001b[39m\u001b[34m()\u001b[39m\n",
      "\u001b[36mFile \u001b[39m\u001b[32mc:\\Users\\iuhfy\\OneDrive\\projects\\stock_analysis\\.venv\\Lib\\site-packages\\talib\\_func.pxi:24\u001b[39m, in \u001b[36mtalib._ta_lib.check_array\u001b[39m\u001b[34m()\u001b[39m\n",
      "\u001b[31mException\u001b[39m: input array has wrong dimensions"
     ]
    }
   ],
   "source": [
    "# Fetch stock data for TSMC (2330.TW)\n",
    "df_stock = yf.download('2330.TW', start='2025-01-01', end='2025-06-15')\n",
    "\n",
    "# Calculate technical indicators\n",
    "df_stock['MA_20'] = talib.SMA(df_stock['Close'].values, timeperiod=20)\n",
    "df_stock['RSI'] = talib.RSI(df_stock['Close'].values, timeperiod=14)\n",
    "df_stock['MACD'], df_stock['MACD_signal'], df_stock['MACD_hist'] = talib.MACD(df_stock['Close'].values)\n",
    "df_stock['upper_band'], df_stock['middle_band'], df_stock['lower_band'] = talib.BBANDS(df_stock['Close'].values, timeperiod=20)\n",
    "\n",
    "# Display the updated DataFrame\n",
    "print(df_stock.head())"
   ]
  },
  {
   "cell_type": "markdown",
   "id": "231b7c23",
   "metadata": {},
   "source": [
    "# 股票篩選與排名\n",
    "根據指標條件進行股票篩選，並依自訂規則進行排名。"
   ]
  },
  {
   "cell_type": "code",
   "execution_count": null,
   "id": "a768c7af",
   "metadata": {},
   "outputs": [],
   "source": [
    "# 篩選與排名\n",
    "filtered_df_stock = df_stock[(df_stock['RSI'] < 30) & (df_stock['close'] > df_stock['MA_20'])]\n",
    "ranked_df_stock = filtered_df_stock.sort_values(by='RSI', ascending=True)"
   ]
  },
  {
   "cell_type": "markdown",
   "id": "e98ab6ec",
   "metadata": {},
   "source": [
    "# 顯示最終篩選結果\n",
    "將篩選與排名後的股票清單以表格或圖表方式顯示。"
   ]
  },
  {
   "cell_type": "code",
   "execution_count": null,
   "id": "25cb2f5c",
   "metadata": {},
   "outputs": [],
   "source": [
    "# 顯示結果\n",
    "print(ranked_df_stock)\n",
    "ranked_df_stock[['close', 'RSI', 'MA_20']].plot(kind='bar')\n",
    "plt.show()"
   ]
  },
  {
   "cell_type": "markdown",
   "id": "b175fc8a",
   "metadata": {},
   "source": [
    "# 透過 SMTP 寄送結果到信箱\n",
    "將最終結果整理為郵件內容，透過 SMTP 發送到指定信箱。"
   ]
  },
  {
   "cell_type": "code",
   "execution_count": null,
   "id": "1e7e99fe",
   "metadata": {},
   "outputs": [],
   "source": [
    "# 寄送郵件\n",
    "from email.mime.text import MIMEText\n",
    "from email.mime.multipart import MIMEMultipart\n",
    "from email.mime.base import MIMEBase\n",
    "from email import encoders\n",
    "smtp_server = 'smtp.example.com'\n",
    "sender_email = 'your_email@example.com'\n",
    "receiver_email = 'receiver_email@example.com'\n",
    "password = 'your_password'\n",
    "subject = '台股分析結果'\n",
    "body = '請參考附件中的台股分析結果。'\n",
    "message = MIMEMultipart()\n",
    "message['From'] = sender_email\n",
    "message['To'] = receiver_email\n",
    "message['Subject'] = subject\n",
    "message.attach(MIMEText(body, 'plain'))\n",
    "filename = 'taiwan_stock_analysis_results.csv'\n",
    "ranked_df_stock.to_csv(filename)\n",
    "attachment = open(filename, 'rb')\n",
    "part = MIMEBase('application', 'octet-stream')\n",
    "part.set_payload(attachment.read())\n",
    "encoders.encode_base64(part)\n",
    "part.add_header('Content-Disposition', f'attachment; filename={filename}')\n",
    "message.attach(part)\n",
    "server = smtplib.SMTP(smtp_server, 587)\n",
    "server.starttls()\n",
    "server.login(sender_email, password)\n",
    "server.sendmail(sender_email, receiver_email, message.as_string())\n",
    "server.quit()"
   ]
  },
  {
   "cell_type": "code",
   "execution_count": null,
   "id": "ce9a8b03",
   "metadata": {},
   "outputs": [],
   "source": [
    "# 從公開 API 撈取台股資料\n",
    "import requests\n",
    "api_url = 'https://api.example.com/taiwan_stock_df_stock'\n",
    "response = requests.get(api_url)\n",
    "if response.status_code == 200:\n",
    "    df_stock = pd.df_stockFrame(response.json())\n",
    "    df_stock['date'] = pd.to_datetime(df_stock['date'])\n",
    "    df_stock.set_index('date', inplace=True)\n",
    "else:\n",
    "    print('Failed to fetch df_stock from API')"
   ]
  },
  {
   "cell_type": "markdown",
   "id": "10d3d5cf",
   "metadata": {},
   "source": [
    "# Backlog"
   ]
  },
  {
   "cell_type": "code",
   "execution_count": null,
   "id": "db2be8dc",
   "metadata": {},
   "outputs": [],
   "source": [
    "# dat = yf.Ticker(\"MSFT\")\n",
    "# dat.info\n",
    "# dat.calendar\n",
    "# dat.analyst_price_targets\n",
    "# dat.quarterly_income_stmt\n",
    "# dat.history(period='1mo')\n",
    "# dat.option_chain(dat.options[0]).calls"
   ]
  },
  {
   "cell_type": "code",
   "execution_count": null,
   "id": "9d1ab24d",
   "metadata": {},
   "outputs": [],
   "source": [
    "# from curl_cffi.requests import get\n",
    "# import certifi\n",
    "\n",
    "# print(certifi.where())\n",
    "# r = get(\"https://www.google.com\", verify=certifi.where())\n",
    "# print(r.status_code)"
   ]
  }
 ],
 "metadata": {
  "kernelspec": {
   "display_name": ".venv",
   "language": "python",
   "name": "python3"
  },
  "language_info": {
   "codemirror_mode": {
    "name": "ipython",
    "version": 3
   },
   "file_extension": ".py",
   "mimetype": "text/x-python",
   "name": "python",
   "nbconvert_exporter": "python",
   "pygments_lexer": "ipython3",
   "version": "3.13.5"
  }
 },
 "nbformat": 4,
 "nbformat_minor": 5
}
